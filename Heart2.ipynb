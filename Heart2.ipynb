{
 "cells": [
  {
   "cell_type": "code",
   "execution_count": null,
   "id": "c3074470-e15e-419e-83aa-856cf580997b",
   "metadata": {},
   "outputs": [
    {
     "ename": "",
     "evalue": "",
     "output_type": "error",
     "traceback": [
      "\u001b[1;31mRunning cells with 'Python 3.10.5' requires the ipykernel package.\n",
      "\u001b[1;31mRun the following command to install 'ipykernel' into the Python environment. \n",
      "\u001b[1;31mCommand: '\"c:/Users/SHIVAM PANDEY/AppData/Local/Programs/Python/Python310/python.exe\" -m pip install ipykernel -U --user --force-reinstall'"
     ]
    }
   ],
   "source": [
    "import pandas as pd\n",
    "import numpy as np\n",
    "from sklearn.model_selection import train_test_split\n",
    "from sklearn.linear_model import LogisticRegression\n",
    "from sklearn.metrics import accuracy_score\n",
    "\n",
    "# Load the CSV file\n",
    "data = pd.read_csv('Heart_Disease_Prediction.csv')\n",
    "\n",
    "# Get the column names\n",
    "column_names = data.columns.tolist()\n",
    "\n",
    "# Separate the features (X) and target variable (y)\n",
    "X = data.drop('Heart Disease', axis=1)\n",
    "y = data['Heart Disease'].apply(lambda x: 1 if x == 'Presence' else 0)\n",
    "\n",
    "# Set the column names for X\n",
    "X.columns = column_names[:-1]\n",
    "\n",
    "# Split the data into training and testing sets\n",
    "X_train, X_test, y_train, y_test = train_test_split(X, y, test_size=0.2, random_state=42)\n",
    "\n",
    "# Create a logistic regression model\n",
    "model = LogisticRegression(max_iter=1000)\n",
    "\n",
    "# Train the model\n",
    "model.fit(X_train, y_train)\n",
    "\n",
    "# Make predictions on the test set\n",
    "y_pred = model.predict(X_test)\n",
    "\n",
    "# Calculate the accuracy\n",
    "accuracy = accuracy_score(y_test, y_pred)\n",
    "print(f\"Accuracy: {accuracy * 100:.2f}%\")\n",
    "\n",
    "# Generate random input\n",
    "random_input = [np.random.randint(low=X.min()[i], high=X.max()[i] + 1) for i in range(len(X.columns))]\n",
    "print(\"Randomly selected input:\", random_input)\n",
    "\n",
    "# Make predictions on new data\n",
    "new_prediction = model.predict([random_input])\n",
    "\n",
    "if new_prediction[0] == 1:\n",
    "    print(\"The person is likely to have heart disease.\")\n",
    "else:\n",
    "    print(\"The person is not likely to have heart disease.\")\n"
   ]
  },
  {
   "cell_type": "code",
   "execution_count": null,
   "id": "d7b072cc-d4fb-4bb8-a388-e5e8038e2db0",
   "metadata": {},
   "outputs": [],
   "source": []
  }
 ],
 "metadata": {
  "kernelspec": {
   "display_name": "Python 3 (ipykernel)",
   "language": "python",
   "name": "python3"
  },
  "language_info": {
   "codemirror_mode": {
    "name": "ipython",
    "version": 3
   },
   "file_extension": ".py",
   "mimetype": "text/x-python",
   "name": "python",
   "nbconvert_exporter": "python",
   "pygments_lexer": "ipython3",
   "version": "3.10.5"
  }
 },
 "nbformat": 4,
 "nbformat_minor": 5
}
