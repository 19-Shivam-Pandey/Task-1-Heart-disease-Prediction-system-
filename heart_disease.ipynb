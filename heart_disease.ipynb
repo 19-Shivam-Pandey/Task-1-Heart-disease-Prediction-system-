{
 "cells": [
  {
   "cell_type": "code",
   "execution_count": 1,
   "id": "a43e0da3-eb9e-4469-bb0f-fa2fd5c123c0",
   "metadata": {},
   "outputs": [
    {
     "name": "stdout",
     "output_type": "stream",
     "text": [
      "Accuracy: 92.59%\n",
      "The person is likely to have heart disease.\n"
     ]
    },
    {
     "name": "stderr",
     "output_type": "stream",
     "text": [
      "C:\\Users\\SHIVAM PANDEY\\anaconda3\\Lib\\site-packages\\sklearn\\base.py:439: UserWarning: X does not have valid feature names, but LogisticRegression was fitted with feature names\n",
      "  warnings.warn(\n"
     ]
    }
   ],
   "source": [
    "import pandas as pd\n",
    "from sklearn.model_selection import train_test_split\n",
    "from sklearn.linear_model import LogisticRegression\n",
    "from sklearn.metrics import accuracy_score\n",
    "\n",
    "# Load the CSV file\n",
    "data = pd.read_csv('Heart_Disease_Prediction.csv')\n",
    "\n",
    "# Get the column names\n",
    "column_names = data.columns.tolist()\n",
    "\n",
    "# Separate the features (X) and target variable (y)\n",
    "X = data.drop('Heart Disease', axis=1)\n",
    "y = data['Heart Disease'].apply(lambda x: 1 if x == 'Presence' else 0)\n",
    "\n",
    "# Set the column names for X\n",
    "X.columns = column_names[:-1]\n",
    "\n",
    "# Split the data into training and testing sets\n",
    "X_train, X_test, y_train, y_test = train_test_split(X, y, test_size=0.2, random_state=42)\n",
    "\n",
    "# Create a logistic regression model\n",
    "model = LogisticRegression(max_iter=1000)\n",
    "\n",
    "# Train the model\n",
    "model.fit(X_train, y_train)\n",
    "\n",
    "# Make predictions on the test set\n",
    "y_pred = model.predict(X_test)\n",
    "\n",
    "# Calculate the accuracy\n",
    "accuracy = accuracy_score(y_test, y_pred)\n",
    "print(f\"Accuracy: {accuracy * 100:.2f}%\")\n",
    "\n",
    "# Make predictions on new data\n",
    "new_data = [[70, 1, 4, 130, 322, 0, 2, 109, 0, 2.4, 2, 3, 3]]\n",
    "new_prediction = model.predict(new_data)\n",
    "\n",
    "if new_prediction[0] == 1:\n",
    "    print(\"The person is likely to have heart disease.\")\n",
    "else:\n",
    "    print(\"The person is not likely to have heart disease.\")"
   ]
  },
  {
   "cell_type": "code",
   "execution_count": null,
   "id": "3780bfdf-bc2d-456e-8f94-5bfd9a64c965",
   "metadata": {},
   "outputs": [],
   "source": []
  },
  {
   "cell_type": "code",
   "execution_count": null,
   "id": "6c1f3e28-a2aa-4670-aef7-7b86aba962c9",
   "metadata": {},
   "outputs": [],
   "source": []
  }
 ],
 "metadata": {
  "kernelspec": {
   "display_name": "Python 3 (ipykernel)",
   "language": "python",
   "name": "python3"
  },
  "language_info": {
   "codemirror_mode": {
    "name": "ipython",
    "version": 3
   },
   "file_extension": ".py",
   "mimetype": "text/x-python",
   "name": "python",
   "nbconvert_exporter": "python",
   "pygments_lexer": "ipython3",
   "version": "3.11.7"
  }
 },
 "nbformat": 4,
 "nbformat_minor": 5
}
